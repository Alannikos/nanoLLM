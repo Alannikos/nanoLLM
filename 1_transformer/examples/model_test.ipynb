{
 "cells": [
  {
   "cell_type": "code",
   "execution_count": null,
   "id": "25583406",
   "metadata": {},
   "outputs": [],
   "source": [
    "import numpy as np\n",
    "\n",
    "index2word_zh = np.load(\"../data/index2word_zh.npy\", allow_pickle=True).item()\n",
    "index2word_en = np.load(\"../data/index2word_en.npy\", allow_pickle=True).item()"
   ]
  },
  {
   "cell_type": "code",
   "execution_count": null,
   "id": "af404f78",
   "metadata": {},
   "outputs": [],
   "source": [
    "len(index2word_en)"
   ]
  },
  {
   "cell_type": "code",
   "execution_count": null,
   "id": "bf55bafe",
   "metadata": {},
   "outputs": [],
   "source": [
    "index2word_en.get(169451, \"<UNK>\")"
   ]
  }
 ],
 "metadata": {
  "kernelspec": {
   "display_name": "ML",
   "language": "python",
   "name": "python3"
  },
  "language_info": {
   "codemirror_mode": {
    "name": "ipython",
    "version": 3
   },
   "file_extension": ".py",
   "mimetype": "text/x-python",
   "name": "python",
   "nbconvert_exporter": "python",
   "pygments_lexer": "ipython3",
   "version": "3.10.0"
  }
 },
 "nbformat": 4,
 "nbformat_minor": 5
}
